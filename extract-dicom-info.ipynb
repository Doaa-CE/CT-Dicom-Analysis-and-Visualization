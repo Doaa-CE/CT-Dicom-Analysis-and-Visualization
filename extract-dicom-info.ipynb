{
 "cells": [
  {
   "cell_type": "code",
   "execution_count": 1,
   "id": "e76bdc06",
   "metadata": {},
   "outputs": [
    {
     "name": "stdout",
     "output_type": "stream",
     "text": [
      "Requirement already satisfied: pydicom in c:\\users\\user\\anaconda3\\lib\\site-packages (3.0.1)\n",
      "*** Patient Information ***\n",
      "\n",
      "ImagePositionPatients: [-164.85, -16.2, -242.27]\n",
      "\n",
      "***  Image Information  ***\n",
      "\n",
      "Slice Thickness: 3 \n",
      "Rows: 512\n",
      "Columns: 512\n",
      "Pixel Spacing: [0.68359375, 0.68359375] \n",
      "Number of 2D slices in CT series is: 40 slices\n"
     ]
    }
   ],
   "source": [
    "!pip install pydicom\n",
    "import os\n",
    "import pydicom\n",
    "\n",
    "def Extract_Dicom_info(file_path):\n",
    "    try:\n",
    "        # Read the DICOM file\n",
    "        dicom_file = pydicom.dcmread(file_path)\n",
    "        \n",
    "        # Extract patient-specific information if it is not anonymized\n",
    "        print(\"*** Patient Information ***\")\n",
    "        print(\"\")\n",
    "        if 'PatientName' in dicom_file:\n",
    "            print(f\"Patient Name is: {dicom_file.PatientName}\")\n",
    "        if 'PatientID' in dicom_file:\n",
    "            print(f\"Patient ID is: {dicom_file.PatientID}\")\n",
    "        if 'PatientAge' in dicom_file:\n",
    "            print(f\"Patient Age is: {dicom_file.PatientAge}\")\n",
    "        if 'PatientSex' in dicom_file:\n",
    "            print(f\"Patient Sex is: {dicom_file.PatientSex}\")\n",
    "        if 'ImagePositionPatient' in dicom_file:\n",
    "            print(f\"ImagePositionPatients: {dicom_file.ImagePositionPatient}\")\n",
    "\n",
    "        print(\"\"\"\"\"\"\"\"\"\"\"\"\"\"\"\"\"\"\"\"\"\"\"\"\"\"\"\"\"\"\"\"\"\"\"\"\"\"\"\"\"\"\"\"\"\"\"\"\"\")\n",
    "        \n",
    "        # Extract image-specific information\n",
    "        print(\"***  Image Information  ***\")\n",
    "        print(\"\")\n",
    "        if 'SliceThickness' in dicom_file:\n",
    "            print(f\"Slice Thickness: {dicom_file.SliceThickness} \")\n",
    "        if 'Rows' in dicom_file:\n",
    "            print(f\"Rows: {dicom_file.Rows}\")\n",
    "        if 'Columns' in dicom_file:\n",
    "            print(f\"Columns: {dicom_file.Columns}\")\n",
    "        if 'PixelSpacing' in dicom_file:\n",
    "            print(f\"Pixel Spacing: {dicom_file.PixelSpacing} \")\n",
    "        \n",
    "        # Extract the number of slices in each CT scan series \n",
    "        dicom_dir = os.path.dirname(file_path)\n",
    "        dicom_files = [f for f in os.listdir(dicom_dir) if f.endswith('.dcm')]\n",
    "        print(f\"Number of 2D slices in CT series is: {len(dicom_files)} slices\")\n",
    "        \n",
    "    except Exception as e:\n",
    "        print(f\"Failed to read DICOM file: {e}\")\n",
    "\n",
    "# Replace this with the directory path of your DICOM file\n",
    "dicom_file_path = \"C:/Users/user/Desktop/CT-Volume/IMG-0001-00001.dcm\"\n",
    "Extract_Dicom_info(dicom_file_path)"
   ]
  },
  {
   "cell_type": "code",
   "execution_count": 5,
   "id": "f75e40ec-e322-448b-9ee6-588c0cd2dc3a",
   "metadata": {},
   "outputs": [
    {
     "data": {
      "text/plain": [
       "Dataset.file_meta -------------------------------\n",
       "(0002,0000) File Meta Information Group Length  UL: 194\n",
       "(0002,0001) File Meta Information Version       OB: b'\\x00\\x01'\n",
       "(0002,0002) Media Storage SOP Class UID         UI: CT Image Storage\n",
       "(0002,0003) Media Storage SOP Instance UID      UI: 2.25.809848722134521032412825561691836166401.1.99\n",
       "(0002,0010) Transfer Syntax UID                 UI: Explicit VR Little Endian\n",
       "(0002,0012) Implementation Class UID            UI: 1.2.276.0.7230010.3.0.3.6.8\n",
       "(0002,0013) Implementation Version Name         SH: 'OFFIS_DCMTK_368'\n",
       "-------------------------------------------------\n",
       "(0008,0005) Specific Character Set              CS: 'ISO_IR 100'\n",
       "(0008,0008) Image Type                          CS: ['ORIGINAL', 'PRIMARY', 'AXIAL']\n",
       "(0008,0016) SOP Class UID                       UI: CT Image Storage\n",
       "(0008,0018) SOP Instance UID                    UI: 2.25.809848722134521032412825561691836166401.1.99\n",
       "(0008,0060) Modality                            CS: 'CT'\n",
       "(0008,0070) Manufacturer                        LO: 'Philips'\n",
       "(0008,1090) Manufacturer's Model Name           LO: 'Ingenuity CT'\n",
       "(0018,0015) Body Part Examined                  CS: 'ABDOMEN'\n",
       "(0018,0022) Scan Options                        CS: 'HELIX'\n",
       "(0018,0050) Slice Thickness                     DS: '3'\n",
       "(0018,0060) KVP                                 DS: '120'\n",
       "(0018,0088) Spacing Between Slices              DS: '1.5'\n",
       "(0018,0090) Data Collection Diameter            DS: '500'\n",
       "(0018,1020) Software Versions                   LO: '4.1'\n",
       "(0018,1040) Contrast/Bolus Route                LO: 'IV'\n",
       "(0018,1041) Contrast/Bolus Volume               DS: '0'\n",
       "(0018,1044) Contrast/Bolus Total Dose           DS: '0'\n",
       "(0018,1046) Contrast Flow Rate                  DS: None\n",
       "(0018,1047) Contrast Flow Duration              DS: None\n",
       "(0018,1049) Contrast/Bolus Ingredient Concentra DS: '0'\n",
       "(0018,1100) Reconstruction Diameter             DS: '350'\n",
       "(0018,1110) Distance Source to Detector         DS: '1040'\n",
       "(0018,1111) Distance Source to Patient          DS: '570'\n",
       "(0018,1120) Gantry/Detector Tilt                DS: '0'\n",
       "(0018,1130) Table Height                        DS: '96.2'\n",
       "(0018,1150) Exposure Time                       IS: '628'\n",
       "(0018,1151) X-Ray Tube Current                  IS: '183'\n",
       "(0018,1152) Exposure                            IS: '115'\n",
       "(0018,1160) Filter Type                         SH: 'B'\n",
       "(0018,1210) Convolution Kernel                  SH: 'B'\n",
       "(0018,5100) Patient Position                    CS: 'FFS'\n",
       "(0018,9302) Acquisition Type                    CS: 'SPIRAL'\n",
       "(0018,9305) Revolution Time                     FD: 0.5\n",
       "(0018,9306) Single Collimation Width            FD: 0.625\n",
       "(0018,9307) Total Collimation Width             FD: 40.0\n",
       "(0018,9309) Table Speed                         FD: 63.8\n",
       "(0018,9310) Table Feed per Rotation             FD: 51.072\n",
       "(0018,9311) Spiral Pitch Factor                 FD: 0.798\n",
       "(0018,9323) Exposure Modulation Type            CS: '3D MODULATION'\n",
       "(0018,9324) Estimated Dose Saving               FD: 18.0\n",
       "(0018,9345) CTDIvol                             FD: 7.5\n",
       "(0020,000D) Study Instance UID                  UI: 2.25.809848722134521032412825561691836166401\n",
       "(0020,000E) Series Instance UID                 UI: 2.25.809848722134521032412825561691836166401.1\n",
       "(0020,0011) Series Number                       IS: '201'\n",
       "(0020,0012) Acquisition Number                  IS: '1'\n",
       "(0020,0013) Instance Number                     IS: '1'\n",
       "(0020,0032) Image Position (Patient)            DS: [-164.85, -16.2, -242.27]\n",
       "(0020,0037) Image Orientation (Patient)         DS: [1, 0, 0, 0, 1, 0]\n",
       "(0020,1040) Position Reference Indicator        LO: ''\n",
       "(0020,1041) Slice Location                      DS: '242.27'\n",
       "(0028,0002) Samples per Pixel                   US: 1\n",
       "(0028,0004) Photometric Interpretation          CS: 'MONOCHROME2'\n",
       "(0028,0010) Rows                                US: 512\n",
       "(0028,0011) Columns                             US: 512\n",
       "(0028,0030) Pixel Spacing                       DS: [0.68359375, 0.68359375]\n",
       "(0028,0100) Bits Allocated                      US: 16\n",
       "(0028,0101) Bits Stored                         US: 12\n",
       "(0028,0102) High Bit                            US: 11\n",
       "(0028,0103) Pixel Representation                US: 0\n",
       "(0028,1050) Window Center                       DS: [60, 60]\n",
       "(0028,1051) Window Width                        DS: [360, 360]\n",
       "(0028,1052) Rescale Intercept                   DS: '-1024'\n",
       "(0028,1053) Rescale Slope                       DS: '1'\n",
       "(7FE0,0010) Pixel Data                          OW: Array of 524288 elements"
      ]
     },
     "execution_count": 5,
     "metadata": {},
     "output_type": "execute_result"
    }
   ],
   "source": [
    "# Extract general information\n",
    "dcm_img = pydicom.dcmread(\"C:/Users/user/Desktop/CT-Volume/IMG-0001-00001.dcm\", force=True)\n",
    "dcm_img"
   ]
  },
  {
   "cell_type": "code",
   "execution_count": null,
   "id": "68dd21a8-b874-4796-a916-591b82a14f2b",
   "metadata": {},
   "outputs": [],
   "source": []
  }
 ],
 "metadata": {
  "kaggle": {
   "accelerator": "none",
   "dataSources": [
    {
     "datasetId": 6665072,
     "sourceId": 10747113,
     "sourceType": "datasetVersion"
    },
    {
     "datasetId": 6670265,
     "sourceId": 10754533,
     "sourceType": "datasetVersion"
    }
   ],
   "dockerImageVersionId": 30886,
   "isGpuEnabled": false,
   "isInternetEnabled": true,
   "language": "python",
   "sourceType": "notebook"
  },
  "kernelspec": {
   "display_name": "Python 3 (ipykernel)",
   "language": "python",
   "name": "python3"
  },
  "language_info": {
   "codemirror_mode": {
    "name": "ipython",
    "version": 3
   },
   "file_extension": ".py",
   "mimetype": "text/x-python",
   "name": "python",
   "nbconvert_exporter": "python",
   "pygments_lexer": "ipython3",
   "version": "3.12.7"
  }
 },
 "nbformat": 4,
 "nbformat_minor": 5
}
